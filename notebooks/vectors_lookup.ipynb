{
 "cells": [
  {
   "cell_type": "code",
   "execution_count": 69,
   "metadata": {},
   "outputs": [
    {
     "name": "stdout",
     "output_type": "stream",
     "text": [
      "[]\n"
     ]
    },
    {
     "data": {
      "text/plain": [
       "nan"
      ]
     },
     "execution_count": 69,
     "metadata": {},
     "output_type": "execute_result"
    }
   ],
   "source": [
    "with open('results/embeddings.vector') as f:\n",
    "    vectors = f.readlines()\n",
    "\n",
    "import numpy as np\n",
    "\n",
    "dvec = dict()\n",
    "for line in vectors:\n",
    "    line = line.split()\n",
    "    try:\n",
    "        word = line[0]\n",
    "    except IndexError:\n",
    "        print(line)\n",
    "        pass\n",
    "    v = np.array(line[1:], dtype=np.float32)\n",
    "    dvec[word] = v\n",
    "\n",
    "def cosine(v1, v2):\n",
    "    try:\n",
    "        return np.dot(v1, v2) / np.sqrt(v1.dot(v1) * v2.dot(v2))\n",
    "    except ValueError:\n",
    "        print(v1.shape, v2.shape)\n",
    "        return 0\n",
    "\n",
    "def top10(wv):\n",
    "    cptd = [(w, cosine(wv, v)) for w, v in dvec.items()]\n",
    "    cptds = sorted(cptd, key=lambda x: x[1], reverse=True)\n",
    "    return cptds[:10]\n",
    "\n",
    "cosine(dvec['king'], dvec['queen'])"
   ]
  },
  {
   "cell_type": "code",
   "execution_count": 70,
   "metadata": {},
   "outputs": [
    {
     "name": "stdout",
     "output_type": "stream",
     "text": [
      "(100,) (0,)\n"
     ]
    },
    {
     "name": "stderr",
     "output_type": "stream",
     "text": [
      "-c:19: RuntimeWarning: invalid value encountered in float_scalars\n"
     ]
    },
    {
     "data": {
      "text/plain": [
       "[('nak', nan),\n",
       " ('bridgetown', nan),\n",
       " ('totient', nan),\n",
       " ('strange', nan),\n",
       " ('fredrick', nan),\n",
       " ('monrovia', nan),\n",
       " ('tyler', nan),\n",
       " ('fmd', nan),\n",
       " ('trapezoidal', nan),\n",
       " ('samoans', nan)]"
      ]
     },
     "execution_count": 70,
     "metadata": {},
     "output_type": "execute_result"
    }
   ],
   "source": [
    "top10(dvec['paris'] - dvec['france'] + dvec['italy'])"
   ]
  },
  {
   "cell_type": "code",
   "execution_count": 72,
   "metadata": {
    "collapsed": true
   },
   "outputs": [],
   "source": [
    "with open('../found/word2vec-master/vectorstext8') as f:\n",
    "    mtv = f.readlines()"
   ]
  },
  {
   "cell_type": "code",
   "execution_count": 73,
   "metadata": {},
   "outputs": [],
   "source": [
    "\n",
    "dvec = dict()\n",
    "for line in mtv:\n",
    "    line = line.split()\n",
    "    try:\n",
    "        word = line[0]\n",
    "    except IndexError:\n",
    "        print(line)\n",
    "        pass\n",
    "    v = np.array(line[1:], dtype=np.float32)\n",
    "    dvec[word] = v"
   ]
  },
  {
   "cell_type": "code",
   "execution_count": 74,
   "metadata": {},
   "outputs": [
    {
     "name": "stdout",
     "output_type": "stream",
     "text": [
      "(100,) (1,)\n"
     ]
    },
    {
     "data": {
      "text/plain": [
       "[('paris', 0.80794209),\n",
       " ('bologna', 0.77964312),\n",
       " ('venice', 0.77387244),\n",
       " ('italy', 0.72033173),\n",
       " ('turin', 0.71744996),\n",
       " ('palermo', 0.71654212),\n",
       " ('zurich', 0.70986032),\n",
       " ('florence', 0.70974392),\n",
       " ('pavia', 0.69365603),\n",
       " ('vienna', 0.69343895)]"
      ]
     },
     "execution_count": 74,
     "metadata": {},
     "output_type": "execute_result"
    }
   ],
   "source": [
    "top10(dvec['paris'] - dvec['france'] + dvec['italy'])"
   ]
  },
  {
   "cell_type": "code",
   "execution_count": null,
   "metadata": {
    "collapsed": true
   },
   "outputs": [],
   "source": []
  }
 ],
 "metadata": {
  "kernelspec": {
   "display_name": "Python 3",
   "language": "python",
   "name": "python3"
  },
  "language_info": {
   "codemirror_mode": {
    "name": "ipython",
    "version": 3
   },
   "file_extension": ".py",
   "mimetype": "text/x-python",
   "name": "python",
   "nbconvert_exporter": "python",
   "pygments_lexer": "ipython3",
   "version": "3.4.2"
  }
 },
 "nbformat": 4,
 "nbformat_minor": 2
}
